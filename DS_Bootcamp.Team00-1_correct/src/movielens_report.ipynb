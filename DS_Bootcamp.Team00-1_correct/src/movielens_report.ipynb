{
 "cells": [
  {
   "cell_type": "markdown",
   "id": "6ad1e084-e304-4d9d-85a3-156a86ed61c1",
   "metadata": {},
   "source": [
    "# Отчет по проетку MovieLens"
   ]
  },
  {
   "cell_type": "markdown",
   "id": "2f8c7b41",
   "metadata": {},
   "source": [
    "## Класс Movies\n",
    "Класс `Movies` отвечает за загрузку и хранение данных о фильмах."
   ]
  },
  {
   "cell_type": "code",
   "execution_count": null,
   "id": "46b992d1-23b1-4c97-9048-88b2fb4c68e5",
   "metadata": {},
   "outputs": [
    {
     "ename": "",
     "evalue": "",
     "output_type": "error",
     "traceback": [
      "\u001b[1;31mThe kernel failed to start due to the missing module 'IPython'. Consider installing this module.\n",
      "\u001b[1;31mClick <a href='https://aka.ms/kernelFailuresMissingModule'>here</a> for more info."
     ]
    }
   ],
   "source": [
    "\n",
    "import re\n"
   ]
  },
  {
   "cell_type": "code",
   "execution_count": null,
   "id": "1f95497e",
   "metadata": {},
   "outputs": [],
   "source": [
    "\n",
    "from movies import Movies\n",
    "from ratings import Ratings\n",
    "movies = Movies(\"movies.csv\")\n",
    "out = Ratings(\"../materials/ratings.csv\",\"../materials/movies.csv\")\n"
   ]
  },
  {
   "cell_type": "markdown",
   "id": "f38a26c0",
   "metadata": {},
   "source": [
    "## `dist_by_release`\n",
    "### Метод возвращает dict , где ключами являются годы, а значениями - подсчеты"
   ]
  },
  {
   "cell_type": "markdown",
   "id": "e53f3559",
   "metadata": {},
   "source": [
    "Читаем информацию с файла"
   ]
  },
  {
   "cell_type": "code",
   "execution_count": null,
   "id": "e89699b4",
   "metadata": {},
   "outputs": [],
   "source": [
    "\n",
    "lines = movies.read_file(movies.file_path)\n",
    "print(lines[:5])"
   ]
  },
  {
   "cell_type": "code",
   "execution_count": null,
   "id": "12bcd145",
   "metadata": {},
   "outputs": [],
   "source": [
    "\n",
    "%timeit lines = movies.read_file(movies.file_path)"
   ]
  },
  {
   "cell_type": "markdown",
   "id": "430e8982",
   "metadata": {},
   "source": [
    "### Метод чтения файла `read_file`"
   ]
  },
  {
   "cell_type": "code",
   "execution_count": null,
   "id": "36b5d3a3",
   "metadata": {},
   "outputs": [],
   "source": [
    "lines = []\n",
    "try:\n",
    "    with open(\"movies.csv\", \"r\", encoding=\"utf-8\") as file:\n",
    "        next(file)\n",
    "                \n",
    "        lines = [line.strip() for line in file.readlines()]\n",
    "                \n",
    "except Exception as e:\n",
    "    print(f\"Ошибка: {e}\")\n",
    "        \n",
    "print(lines[:50])"
   ]
  },
  {
   "cell_type": "markdown",
   "id": "8181087a",
   "metadata": {},
   "source": [
    "### Разбиение по столбцам"
   ]
  },
  {
   "cell_type": "code",
   "execution_count": null,
   "id": "53bc50c2",
   "metadata": {},
   "outputs": [],
   "source": [
    "years = movies.separate(lines,1)\n",
    "print(years[:5])"
   ]
  },
  {
   "cell_type": "code",
   "execution_count": null,
   "id": "7fbd9620",
   "metadata": {},
   "outputs": [],
   "source": [
    "%timeit years = movies.separate(lines,1)"
   ]
  },
  {
   "cell_type": "markdown",
   "metadata": {},
   "source": [
    "### Метода разбиение по столбцам `separate`"
   ]
  },
  {
   "cell_type": "code",
   "execution_count": null,
   "id": "8eaee94c",
   "metadata": {},
   "outputs": [],
   "source": [
    "years = []\n",
    "for line in lines:\n",
    "\n",
    "    columns = movies.split_csv_line(line)\n",
    "    years.append(columns[1])\n",
    "\n",
    "print(years)"
   ]
  },
  {
   "cell_type": "markdown",
   "id": "563cedc0",
   "metadata": {},
   "source": [
    "### Получаем года выпусков фильмов"
   ]
  },
  {
   "cell_type": "code",
   "execution_count": null,
   "id": "41bcd1e6",
   "metadata": {},
   "outputs": [],
   "source": [
    "list_for_dict = movies.get_secnod_colum(years)\n",
    "print(list_for_dict[:5])"
   ]
  },
  {
   "cell_type": "code",
   "execution_count": null,
   "id": "02144fa4",
   "metadata": {},
   "outputs": [],
   "source": [
    "%timeit list_for_dict = movies.get_secnod_colum(years)"
   ]
  },
  {
   "cell_type": "markdown",
   "id": "1134cfe5",
   "metadata": {},
   "source": [
    "### Метод отделяющий года от название фильмов `get_scond_colum`"
   ]
  },
  {
   "cell_type": "code",
   "execution_count": null,
   "id": "0e517046",
   "metadata": {},
   "outputs": [],
   "source": [
    "split = [i for i in str(years).split(\"(\")  ]\n",
    "output = []\n",
    "\n",
    "for i in range(len(split)):\n",
    "    if split[i][0:4].isdigit():\n",
    "        output.append(split[i][0:4])\n",
    "\n",
    "print(output)"
   ]
  },
  {
   "cell_type": "markdown",
   "id": "3569ca4b",
   "metadata": {},
   "source": [
    "### Получаем\n",
    "-  Год в котором было выпущенно больше всего фильмов: 2002 \n",
    "-  Года в которых было выпущенно меньше всего фильмов: 1922, 1919, 1921, 1915, 1917, 1902, 1908 "
   ]
  },
  {
   "cell_type": "code",
   "execution_count": null,
   "id": "874627c5",
   "metadata": {},
   "outputs": [],
   "source": [
    "release_years = movies.list_to_dict(list_for_dict,True)\n",
    "print(release_years)"
   ]
  },
  {
   "cell_type": "code",
   "execution_count": null,
   "id": "ef89e058",
   "metadata": {},
   "outputs": [],
   "source": [
    "%timeit release_years = movies.list_to_dict(list_for_dict,True)"
   ]
  },
  {
   "cell_type": "markdown",
   "id": "d526cac6",
   "metadata": {},
   "source": [
    "### Метод, возвращающий: ключи - года, значения - количество фильмов снятых в этом году `list_to_dict`"
   ]
  },
  {
   "cell_type": "code",
   "execution_count": null,
   "id": "e3233102",
   "metadata": {},
   "outputs": [],
   "source": [
    "release_years = {}\n",
    "   \n",
    "for i in list_for_dict:\n",
    "    if i in release_years:\n",
    "        release_years[i] +=1\n",
    "    else:\n",
    "        release_years[i] = 1\n",
    "\n",
    "release_years = dict(sorted(release_years.items(), key=lambda item: item[1],reverse=n))\n",
    "print(release_years)"
   ]
  },
  {
   "cell_type": "markdown",
   "id": "d298f006",
   "metadata": {},
   "source": [
    "## `dist_by_genres`\n",
    "### Метод возвращает dict, в котором ключи - это жанры, а значения - их количество."
   ]
  },
  {
   "cell_type": "markdown",
   "id": "0b738a56",
   "metadata": {},
   "source": [
    "Получаем все жанры"
   ]
  },
  {
   "cell_type": "code",
   "execution_count": null,
   "id": "03f47023",
   "metadata": {},
   "outputs": [],
   "source": [
    "lines = movies.read_file(movies.file_path)\n",
    "years = movies.separate(lines,2)\n",
    "list_ready = movies.get_geners(years)\n",
    "print(list_ready[:100])"
   ]
  },
  {
   "cell_type": "code",
   "execution_count": null,
   "id": "d2eb10ac",
   "metadata": {},
   "outputs": [],
   "source": [
    "%timeit list_ready = movies.get_geners(years)"
   ]
  },
  {
   "cell_type": "markdown",
   "id": "58a1d7cb",
   "metadata": {},
   "source": [
    "### Метод, возвращающий все жанры `get_geners`"
   ]
  },
  {
   "cell_type": "code",
   "execution_count": null,
   "id": "91a45167",
   "metadata": {},
   "outputs": [],
   "source": [
    "genres = []\n",
    "for item in (years):\n",
    "    genres.extend([i for i in item.replace(\"'\", \"\").replace('\"',\"\").split(\"|\")])\n",
    "print(genres)"
   ]
  },
  {
   "cell_type": "markdown",
   "id": "0fe4f13d",
   "metadata": {},
   "source": [
    "### Создаем окончательный словарь , в котором значения отсортированы по убыванию\n",
    "- Больше всего фильмов снятых в жанре `\"Драма\"`. \n",
    "- Самым не популярынм жанром стал `\"Film-Noir\"` \n",
    "- 34 фильма остались без единного жанра "
   ]
  },
  {
   "cell_type": "code",
   "execution_count": null,
   "id": "4bbca953",
   "metadata": {},
   "outputs": [],
   "source": [
    "%timeit\n",
    "genres = movies.list_to_dict(list_ready,movies)\n",
    "print(genres)"
   ]
  },
  {
   "cell_type": "markdown",
   "id": "b61b0556",
   "metadata": {},
   "source": [
    "## `most_genres`\n",
    "### Метод возвращает словарь с топ-n фильмов, где ключами являются названия фильмов, а значения - количество жанров фильма\n"
   ]
  },
  {
   "cell_type": "markdown",
   "id": "b76ddd1d",
   "metadata": {},
   "source": [
    "### Получаем список, в котом находяться количество жанров в каждом фильме"
   ]
  },
  {
   "cell_type": "code",
   "execution_count": null,
   "id": "29ec29b7",
   "metadata": {},
   "outputs": [],
   "source": [
    "read = []\n",
    "\n",
    "lines = movies.read_file(movies.file_path)\n",
    "list_ready = movies.separate(lines,1)\n",
    "output = movies.title(list_ready)\n",
    "        \n",
    "for i in movies.separate(lines,2):\n",
    "    read.append(len(i.split(\"|\")))\n",
    "print(read[:100])\n"
   ]
  },
  {
   "cell_type": "code",
   "execution_count": null,
   "id": "235eaec5",
   "metadata": {},
   "outputs": [],
   "source": [
    "%timeit output = movies.title(list_ready)"
   ]
  },
  {
   "cell_type": "markdown",
   "id": "54bd1f5f",
   "metadata": {},
   "source": [
    "### Метод, возвращающий названия фильмов `title`"
   ]
  },
  {
   "cell_type": "code",
   "execution_count": null,
   "id": "7b88619d",
   "metadata": {},
   "outputs": [],
   "source": [
    "output = []\n",
    "for word in list_ready:\n",
    "    clean_word = re.sub(r'\\s*\\(.*?\\)\\s*', '', word).strip()\n",
    "    if clean_word:\n",
    "        output.append(clean_word)\n",
    "print(output)"
   ]
  },
  {
   "cell_type": "markdown",
   "id": "4ff6cdd3",
   "metadata": {},
   "source": [
    "### Получаем словарь с фильмами и колчиеством жанров"
   ]
  },
  {
   "cell_type": "code",
   "execution_count": null,
   "id": "044373dc",
   "metadata": {},
   "outputs": [],
   "source": [
    "movies_dict = dict(movies.from_two_list_to_dict(output,read))\n",
    "stop_key = 100\n",
    "\n",
    "result = {}\n",
    "count = 0\n",
    "for key, value in movies_dict.items():\n",
    "    count+=1\n",
    "    if(stop_key == count):\n",
    "\n",
    "        break\n",
    "    result[key] = value\n",
    "\n",
    "print(result)\n"
   ]
  },
  {
   "cell_type": "code",
   "execution_count": null,
   "id": "0f5d6e00",
   "metadata": {},
   "outputs": [],
   "source": [
    "%timeit movies_dict = dict(movies.from_two_list_to_dict(output,read))"
   ]
  },
  {
   "cell_type": "markdown",
   "id": "7ac0e107",
   "metadata": {},
   "source": [
    "### Получаем top-n фильмов по количеству жанров, отсортированных по убыванию.\n",
    "- Больше всего жанров у фильма \"Rubber\""
   ]
  },
  {
   "cell_type": "code",
   "execution_count": null,
   "id": "0e300953",
   "metadata": {},
   "outputs": [],
   "source": [
    "%timeit\n",
    "n = 10\n",
    "sorted_movies = dict(sorted(movies_dict.items(), key=lambda item: item[1], reverse=True))\n",
    "top_n = dict(list(sorted_movies.items())[:n])\n",
    "print(top_n)"
   ]
  },
  {
   "cell_type": "markdown",
   "id": "cca8bf95",
   "metadata": {},
   "source": [
    "# Класс Rating"
   ]
  },
  {
   "cell_type": "markdown",
   "id": "47d91006",
   "metadata": {},
   "source": [
    "## Класс Rating отвечает за хранение рейтингов фильмов"
   ]
  },
  {
   "cell_type": "code",
   "execution_count": null,
   "id": "2845829d",
   "metadata": {},
   "outputs": [],
   "source": [
    "file_path_movie = \"../materials/movies.csv\"\n",
    "file_path = \"../materials/ratings.csv\""
   ]
  },
  {
   "cell_type": "markdown",
   "id": "1eda3f32",
   "metadata": {},
   "source": [
    "## Под класс `Movies`"
   ]
  },
  {
   "cell_type": "markdown",
   "id": "a465c8cf",
   "metadata": {},
   "source": [
    "## `dist_by_year`\n",
    "### Метод возвращающий сколько было снято фильмов году\n",
    "- Самый поплуярных год стал 2002"
   ]
  },
  {
   "cell_type": "code",
   "execution_count": null,
   "id": "d805b01f",
   "metadata": {},
   "outputs": [],
   "source": [
    "lines = movies.read_file(file_path_movie)\n",
    "years = movies.separate(lines,1)\n",
    "\n",
    "list_for_dict = movies.get_secnod_colum(years)\n",
    "ratings_by_year = movies.list_to_dict(list_for_dict,False)\n",
    "\n",
    "print(ratings_by_year)"
   ]
  },
  {
   "cell_type": "markdown",
   "id": "a7a820b3",
   "metadata": {},
   "source": [
    "## `dist_by_rating`"
   ]
  },
  {
   "cell_type": "markdown",
   "id": "077a2a0f",
   "metadata": {},
   "source": [
    "## Метод возвращает рейтинг самых популярных оценок\n",
    "- Самая поплуярная оценка `\"4.0\"`\n",
    "- Самая редкая оценка `\"0,5\"`"
   ]
  },
  {
   "cell_type": "code",
   "execution_count": null,
   "id": "a7f2eb94",
   "metadata": {},
   "outputs": [],
   "source": [
    "lines = movies.read_file(file_path)\n",
    "years = movies.separate(lines,2)\n",
    "ratings_distribution = movies.list_to_dict(years,False)\n",
    "print(ratings_distribution)"
   ]
  },
  {
   "cell_type": "markdown",
   "id": "e6595abf",
   "metadata": {},
   "source": [
    "## `top_by_num_of_ratings`"
   ]
  },
  {
   "cell_type": "markdown",
   "id": "95667152",
   "metadata": {},
   "source": [
    "## Подготавливаем нужную информацию"
   ]
  },
  {
   "cell_type": "code",
   "execution_count": null,
   "id": "152454ca",
   "metadata": {},
   "outputs": [],
   "source": [
    "lines = movies.read_file(file_path_movie)\n",
    "second_colum = movies.separate(lines,1)\n",
    "title = movies.title(second_colum)\n",
    "\n",
    "id_mov = movies.separate(lines,0)\n",
    "dict_title_id_mov = dict(movies.from_two_list_to_dict(title,id_mov))\n",
    "\n",
    "lines = movies.read_file(file_path)\n",
    "movies.id = movies.separate(lines,1)"
   ]
  },
  {
   "cell_type": "markdown",
   "id": "eb7ff379",
   "metadata": {},
   "source": [
    "## Полуачем самые словарь из самых оцененых фильмов\n",
    "- Самым оцениваемым фильмов стал `Forrest Gump`"
   ]
  },
  {
   "cell_type": "code",
   "execution_count": null,
   "id": "ad910011",
   "metadata": {},
   "outputs": [],
   "source": [
    "movies.release_years = {}\n",
    "for i in movies.id:\n",
    "    if i in movies.release_years:\n",
    "        movies.release_years[i] +=1\n",
    "    else:\n",
    "        movies.release_years[i] = 1\n",
    "\n",
    "id_to_title = {v: k for k, v in dict_title_id_mov.items()}\n",
    "top_movies = {id_to_title[movie_id]: count for movie_id, count in movies.release_years.items() if movie_id in id_to_title}\n",
    "top_movies = dict(sorted(top_movies.items(), key=lambda item: item[1],reverse=True))\n",
    "\n",
    "top_movies = list(top_movies.items())\n",
    "print(dict(top_movies[:n]))"
   ]
  },
  {
   "cell_type": "code",
   "execution_count": null,
   "id": "6d118b65",
   "metadata": {},
   "outputs": [],
   "source": [
    "%timeit movies.release_years"
   ]
  },
  {
   "cell_type": "markdown",
   "id": "966b0074",
   "metadata": {},
   "source": [
    "## `top_by_ratings`\n",
    "### Метод возвращающий среднее занчения или медиану всех оценок "
   ]
  },
  {
   "cell_type": "code",
   "execution_count": null,
   "id": "480a22ab",
   "metadata": {},
   "outputs": [],
   "source": [
    "def top_by_ratings(self, n, metric=None):\n",
    "    \n",
    "    if metric is None:\n",
    "        metric = self.average()  \n",
    "\n",
    "    movie_ratings = metric()  \n",
    "\n",
    "    top_movies = dict(sorted(movie_ratings.items(), key=lambda x: x[1], reverse=True))\n",
    "\n",
    "    return dict(list(top_movies.items())[:n])\n"
   ]
  },
  {
   "cell_type": "markdown",
   "id": "056fe138",
   "metadata": {},
   "source": [
    "## Среденее значение\n"
   ]
  },
  {
   "cell_type": "code",
   "execution_count": null,
   "id": "9859a8a2",
   "metadata": {},
   "outputs": [],
   "source": [
    "out = Ratings(file_path,file_path_movie)\n",
    "print(out.Movies.top_by_ratings(2000,metric=out.Movies.average))"
   ]
  },
  {
   "cell_type": "markdown",
   "id": "c58622fc",
   "metadata": {},
   "source": [
    "### Нахождение медианы"
   ]
  },
  {
   "cell_type": "code",
   "execution_count": null,
   "id": "3ccebfcd",
   "metadata": {},
   "outputs": [],
   "source": [
    "out = Ratings(file_path,file_path_movie)\n",
    "print(out.Movies.top_by_ratings(2000,metric=out.Movies.median))"
   ]
  },
  {
   "cell_type": "code",
   "execution_count": null,
   "id": "19bfa4af",
   "metadata": {},
   "outputs": [],
   "source": [
    "%timeit (out.Movies.top_by_ratings(2000,metric=out.Movies.median))\n",
    "%timeit (out.Movies.top_by_ratings(2000,metric=out.Movies.average))"
   ]
  },
  {
   "cell_type": "markdown",
   "id": "4ccdcf9b",
   "metadata": {},
   "source": [
    "## `top_controversial`"
   ]
  },
  {
   "cell_type": "markdown",
   "id": "9cdb58c6",
   "metadata": {},
   "source": [
    "### Метод, возвращающий дисперсию оценок\n",
    "- Самая болшая дисперсия оценок у фильма `\"Fanny and Alexander\"`"
   ]
  },
  {
   "cell_type": "code",
   "execution_count": null,
   "id": "9fd044d3",
   "metadata": {},
   "outputs": [],
   "source": [
    "def top_controversial(self, n):\n",
    "            \n",
    "    lines = self.a.read_file(self.file_path)\n",
    "    rating = self.a.separate(lines, 2)\n",
    "    id = self.id\n",
    "    top_n_variance = self.variance_main(rating,id,n,0)\n",
    "    return top_n_variance"
   ]
  },
  {
   "cell_type": "code",
   "execution_count": null,
   "id": "70eb1d5f",
   "metadata": {},
   "outputs": [],
   "source": [
    "(out.Movies.top_by_num_of_ratings(10))\n",
    "print(out.Movies.top_controversial(100))"
   ]
  },
  {
   "cell_type": "code",
   "execution_count": null,
   "id": "3d5b2421",
   "metadata": {},
   "outputs": [],
   "source": [
    "%timeit (out.Movies.top_controversial(100))"
   ]
  },
  {
   "cell_type": "markdown",
   "id": "218a40af",
   "metadata": {},
   "source": [
    "## Под класс `Users`"
   ]
  },
  {
   "cell_type": "markdown",
   "id": "85124127",
   "metadata": {},
   "source": [
    "## `count_users`\n",
    "Метод возвращающий сколько раз пользователи оценивали фильмы\n",
    "- Пользователь с id \"414\" сделал 2698 оценок, это самый лучший результат"
   ]
  },
  {
   "cell_type": "code",
   "execution_count": null,
   "id": "fb1776fa",
   "metadata": {},
   "outputs": [],
   "source": [
    "def count_users(self):\n",
    "\n",
    "    lines = self.a.read_file(self.file_path)\n",
    "    users_id = self.a.separate(lines, 0)\n",
    "    rating = self.a.separate(lines,2)\n",
    "    dict_user_rating = self.split_rating(rating,users_id)\n",
    "    out_dict = {}\n",
    "\n",
    "    for film_id, ratings_str in dict_user_rating.items():   \n",
    "        ratings = list(ratings_str.split())\n",
    "        out_dict[film_id] = len(ratings)\n",
    "        \n",
    "    out_dict = dict(sorted(out_dict.items(), key=lambda item: item[1], reverse=True))\n",
    "    return out_dict"
   ]
  },
  {
   "cell_type": "code",
   "execution_count": null,
   "id": "a3898847",
   "metadata": {},
   "outputs": [],
   "source": [
    "print(out.Users.count_users())"
   ]
  },
  {
   "cell_type": "code",
   "execution_count": null,
   "id": "a9a88c02",
   "metadata": {},
   "outputs": [],
   "source": [
    "%timeit out.Users.count_users()"
   ]
  },
  {
   "cell_type": "markdown",
   "id": "2283f088",
   "metadata": {},
   "source": [
    "## `average_or_median_users`\n",
    "### Метод возвращет среднее занчения или медиану всех оценок по пользователям "
   ]
  },
  {
   "cell_type": "code",
   "execution_count": null,
   "id": "926671fb",
   "metadata": {},
   "outputs": [],
   "source": [
    "def average_or_median_users(self, n, metric=None):\n",
    "            \n",
    "    if metric is None:\n",
    "        metric = self.average_uers  \n",
    "\n",
    "    movie_ratings = metric()       \n",
    "    top_movies = dict(sorted(movie_ratings.items(), key=lambda x: x[1], reverse=True))\n",
    "\n",
    "    return dict(list(top_movies.items())[:n])"
   ]
  },
  {
   "cell_type": "markdown",
   "id": "1b25f75d",
   "metadata": {},
   "source": [
    "### Срденее значение"
   ]
  },
  {
   "cell_type": "code",
   "execution_count": null,
   "id": "b758a970",
   "metadata": {},
   "outputs": [],
   "source": [
    "print((out.Users.average_or_median_users(500,metric=out.Users.average_uers)))"
   ]
  },
  {
   "cell_type": "markdown",
   "id": "50f9340f",
   "metadata": {},
   "source": [
    "### Нахождение медианы"
   ]
  },
  {
   "cell_type": "code",
   "execution_count": null,
   "id": "4496f32b",
   "metadata": {},
   "outputs": [],
   "source": [
    "print((out.Users.average_or_median_users(500,metric=out.Users.median_users)))"
   ]
  },
  {
   "cell_type": "code",
   "execution_count": null,
   "id": "76e544d3",
   "metadata": {},
   "outputs": [],
   "source": [
    "%timeit ((out.Users.average_or_median_users(500,metric=out.Users.median_users)))\n",
    "%timeit ((out.Users.average_or_median_users(500,metric=out.Users.average_uers)))"
   ]
  },
  {
   "cell_type": "markdown",
   "id": "926242e2",
   "metadata": {},
   "source": [
    "## `variance_users`\n",
    "### Находит дисперсию оценок пользователей"
   ]
  },
  {
   "cell_type": "code",
   "execution_count": null,
   "id": "f408bdd1",
   "metadata": {},
   "outputs": [],
   "source": [
    "def variance_users(self,n):\n",
    "            \n",
    "    lines = self.a.read_file(self.file_path)\n",
    "    users_id = self.a.separate(lines, 0)\n",
    "    rating = self.a.separate(lines,2)\n",
    "    variance_out = super().variance_main(rating,users_id,n,1)\n",
    "    \n",
    "    return variance_out"
   ]
  },
  {
   "cell_type": "code",
   "execution_count": null,
   "id": "d15ae0aa",
   "metadata": {},
   "outputs": [],
   "source": [
    "print((out.Users.variance_users(10)))"
   ]
  },
  {
   "cell_type": "code",
   "execution_count": null,
   "id": "e3ad53cc",
   "metadata": {},
   "outputs": [],
   "source": [
    "%timeit (out.Users.variance_users(10))"
   ]
  },
  {
   "cell_type": "markdown",
   "id": "acaafb2f",
   "metadata": {},
   "source": [
    "# Спасибо за внимание!!"
   ]
  },
  {
   "cell_type": "markdown",
   "id": "c5a330e1",
   "metadata": {},
   "source": [
    "<img src = 'https://www.google.com/url?sa=i&url=https%3A%2F%2Fwww.infoniac.ru%2Fnews%2Fspasibo-za-vnimanie-30-idei-dlya-teksta-i-krasivye-kartinki-dlya-prezentacii.html&psig=AOvVaw3TX6A2YWWRJaP8xjknQZX8&ust=1743342227104000&source=images&cd=vfe&opi=89978449&ved=0CBQQjRxqFwoTCPCVw4m2r4wDFQAAAAAdAAAAABAJ' />"
   ]
  }
 ],
 "metadata": {
  "kernelspec": {
   "display_name": "Python 3",
   "language": "python",
   "name": "python3"
  },
  "language_info": {
   "codemirror_mode": {
    "name": "ipython",
    "version": 3
   },
   "file_extension": ".py",
   "mimetype": "text/x-python",
   "name": "python",
   "nbconvert_exporter": "python",
   "pygments_lexer": "ipython3",
   "version": "3.12.7"
  }
 },
 "nbformat": 4,
 "nbformat_minor": 5
}
